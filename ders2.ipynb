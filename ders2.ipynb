{
 "cells": [
  {
   "cell_type": "markdown",
   "id": "91ac85a4",
   "metadata": {},
   "source": [
    "# numpy_preview"
   ]
  },
  {
   "cell_type": "code",
   "execution_count": 49,
   "id": "346155a2",
   "metadata": {},
   "outputs": [],
   "source": [
    "import numpy as np\n",
    "import pandas as pd"
   ]
  },
  {
   "cell_type": "code",
   "execution_count": 3,
   "id": "728c84ee",
   "metadata": {},
   "outputs": [
    {
     "name": "stdout",
     "output_type": "stream",
     "text": [
      "[1 2 3 4]\n"
     ]
    }
   ],
   "source": [
    "array=np.array([1,2,3,4])\n",
    "print(array)"
   ]
  },
  {
   "cell_type": "code",
   "execution_count": 4,
   "id": "dabad62f",
   "metadata": {},
   "outputs": [
    {
     "data": {
      "text/plain": [
       "(4,)"
      ]
     },
     "execution_count": 4,
     "metadata": {},
     "output_type": "execute_result"
    }
   ],
   "source": [
    "array.shape"
   ]
  },
  {
   "cell_type": "code",
   "execution_count": 7,
   "id": "9a3da776",
   "metadata": {},
   "outputs": [
    {
     "data": {
      "text/plain": [
       "array([[  1,   2,   3],\n",
       "       [433,   4,   5],\n",
       "       [ 23,   5,   6]])"
      ]
     },
     "execution_count": 7,
     "metadata": {},
     "output_type": "execute_result"
    }
   ],
   "source": [
    "array2=np.array([1,2,3,433,4,5,23,5,6])\n",
    "array2.reshape(3,3)"
   ]
  },
  {
   "cell_type": "code",
   "execution_count": 8,
   "id": "8e4cef79",
   "metadata": {},
   "outputs": [
    {
     "data": {
      "text/plain": [
       "1"
      ]
     },
     "execution_count": 8,
     "metadata": {},
     "output_type": "execute_result"
    }
   ],
   "source": [
    "array2.ndim"
   ]
  },
  {
   "cell_type": "code",
   "execution_count": 9,
   "id": "ba44006b",
   "metadata": {},
   "outputs": [
    {
     "data": {
      "text/plain": [
       "9"
      ]
     },
     "execution_count": 9,
     "metadata": {},
     "output_type": "execute_result"
    }
   ],
   "source": [
    "array2.size"
   ]
  },
  {
   "cell_type": "code",
   "execution_count": 10,
   "id": "5699f19f",
   "metadata": {},
   "outputs": [
    {
     "name": "stdout",
     "output_type": "stream",
     "text": [
      "[  1   2   3 433   4   5  23   5   6]\n"
     ]
    }
   ],
   "source": [
    "print(array2)"
   ]
  },
  {
   "cell_type": "code",
   "execution_count": 13,
   "id": "1ec89c22",
   "metadata": {},
   "outputs": [
    {
     "data": {
      "text/plain": [
       "array([[0., 0., 0., 0.],\n",
       "       [0., 0., 0., 0.]])"
      ]
     },
     "execution_count": 13,
     "metadata": {},
     "output_type": "execute_result"
    }
   ],
   "source": [
    "zeros=np.zeros((2,4))\n",
    "zeros"
   ]
  },
  {
   "cell_type": "code",
   "execution_count": 15,
   "id": "dc25ea2d",
   "metadata": {},
   "outputs": [
    {
     "name": "stdout",
     "output_type": "stream",
     "text": [
      "[[1. 1. 1. 1.]\n",
      " [1. 1. 1. 1.]\n",
      " [1. 1. 1. 1.]]\n"
     ]
    }
   ],
   "source": [
    "ones=np.ones((3,4))\n",
    "print(ones)"
   ]
  },
  {
   "cell_type": "code",
   "execution_count": 16,
   "id": "60a03e34",
   "metadata": {},
   "outputs": [
    {
     "data": {
      "text/plain": [
       "array([[1., 1., 1., 1.],\n",
       "       [1., 1., 1., 1.],\n",
       "       [1., 1., 1., 1.]])"
      ]
     },
     "execution_count": 16,
     "metadata": {},
     "output_type": "execute_result"
    }
   ],
   "source": [
    "np.empty((3,4))"
   ]
  },
  {
   "cell_type": "code",
   "execution_count": 17,
   "id": "8b710cee",
   "metadata": {},
   "outputs": [
    {
     "data": {
      "text/plain": [
       "array([10, 14, 18, 22])"
      ]
     },
     "execution_count": 17,
     "metadata": {},
     "output_type": "execute_result"
    }
   ],
   "source": [
    "np.arange(10,25,4)"
   ]
  },
  {
   "cell_type": "code",
   "execution_count": 20,
   "id": "32628fd6",
   "metadata": {},
   "outputs": [
    {
     "name": "stdout",
     "output_type": "stream",
     "text": [
      "[-3 -3 -3]\n",
      "[ 5  7 13]\n",
      "[ 4 10 40]\n",
      "[0.25  0.4   0.625]\n"
     ]
    }
   ],
   "source": [
    "a=np.array([1,2,5])\n",
    "b=np.array([4,5,8])\n",
    "\n",
    "print(a-b)\n",
    "print(a+b)\n",
    "print(a*b)\n",
    "print(a/b)"
   ]
  },
  {
   "cell_type": "code",
   "execution_count": 22,
   "id": "922f9a39",
   "metadata": {},
   "outputs": [
    {
     "name": "stdout",
     "output_type": "stream",
     "text": [
      "[1, 2, 3, 4]\n",
      "[5 6 7 8]\n"
     ]
    }
   ],
   "source": [
    "liste=[1,2,3,4]\n",
    "array=np.array([5,6,7,8])\n",
    "\n",
    "print(liste)\n",
    "print(array)"
   ]
  },
  {
   "cell_type": "code",
   "execution_count": 36,
   "id": "d3e4dbfc",
   "metadata": {},
   "outputs": [
    {
     "name": "stdout",
     "output_type": "stream",
     "text": [
      "[1 2 4 5] [1 2 4 5] [1 2 4 5]\n",
      "[5 2 4 5] [5 2 4 5] [5 2 4 5]\n"
     ]
    }
   ],
   "source": [
    "a=np.array([1,2,4,5])\n",
    "a\n",
    "b=a\n",
    "c=a\n",
    "print(a,b,c)\n",
    "b[0]=5\n",
    "print(a,b,c)\n",
    "#bütün değerler etkilenir"
   ]
  },
  {
   "cell_type": "code",
   "execution_count": 37,
   "id": "45aae9cb",
   "metadata": {},
   "outputs": [
    {
     "data": {
      "text/plain": [
       "array([5, 2, 4, 5])"
      ]
     },
     "execution_count": 37,
     "metadata": {},
     "output_type": "execute_result"
    }
   ],
   "source": [
    "d=a.copy()\n",
    "d"
   ]
  },
  {
   "cell_type": "code",
   "execution_count": 38,
   "id": "e33e528a",
   "metadata": {},
   "outputs": [
    {
     "data": {
      "text/plain": [
       "array([5, 2, 4, 5])"
      ]
     },
     "execution_count": 38,
     "metadata": {},
     "output_type": "execute_result"
    }
   ],
   "source": [
    "a[0]=8\n",
    "d"
   ]
  },
  {
   "cell_type": "code",
   "execution_count": 39,
   "id": "ecbf43bc",
   "metadata": {},
   "outputs": [
    {
     "data": {
      "text/plain": [
       "array([8, 2, 4, 5])"
      ]
     },
     "execution_count": 39,
     "metadata": {},
     "output_type": "execute_result"
    }
   ],
   "source": [
    "d[0]=7\n",
    "a"
   ]
  },
  {
   "cell_type": "code",
   "execution_count": 40,
   "id": "34e7cf18",
   "metadata": {},
   "outputs": [
    {
     "data": {
      "text/plain": [
       "array([9, 8, 7, 6, 5, 4, 3, 2])"
      ]
     },
     "execution_count": 40,
     "metadata": {},
     "output_type": "execute_result"
    }
   ],
   "source": [
    "a=np.array([9,8,7,6,5,4,3,2])\n",
    "a"
   ]
  },
  {
   "cell_type": "code",
   "execution_count": 41,
   "id": "325c200d",
   "metadata": {},
   "outputs": [
    {
     "data": {
      "text/plain": [
       "array([2, 3, 4, 5, 6, 7, 8, 9])"
      ]
     },
     "execution_count": 41,
     "metadata": {},
     "output_type": "execute_result"
    }
   ],
   "source": [
    "a[::-1]"
   ]
  },
  {
   "cell_type": "code",
   "execution_count": 42,
   "id": "4e7cddf7",
   "metadata": {},
   "outputs": [
    {
     "data": {
      "text/plain": [
       "array([9, 8, 7, 6, 5, 4, 3, 2])"
      ]
     },
     "execution_count": 42,
     "metadata": {},
     "output_type": "execute_result"
    }
   ],
   "source": [
    "a"
   ]
  },
  {
   "cell_type": "code",
   "execution_count": 46,
   "id": "3f67ee58",
   "metadata": {},
   "outputs": [
    {
     "data": {
      "text/plain": [
       "array([[9, 8, 7, 6],\n",
       "       [5, 4, 3, 2]])"
      ]
     },
     "execution_count": 46,
     "metadata": {},
     "output_type": "execute_result"
    }
   ],
   "source": [
    "b=np.array([[9,8,7,6],[5,4,3,2]])\n",
    "b"
   ]
  },
  {
   "cell_type": "code",
   "execution_count": 48,
   "id": "a073fb23",
   "metadata": {},
   "outputs": [
    {
     "name": "stdout",
     "output_type": "stream",
     "text": [
      "[7 3]\n",
      "4\n"
     ]
    }
   ],
   "source": [
    "print(b[:,2])\n",
    "print(b[1,1])"
   ]
  },
  {
   "cell_type": "markdown",
   "id": "ce184c26",
   "metadata": {},
   "source": [
    "# pandas ornekler"
   ]
  },
  {
   "cell_type": "code",
   "execution_count": 50,
   "id": "72c5f77e",
   "metadata": {},
   "outputs": [
    {
     "name": "stdout",
     "output_type": "stream",
     "text": [
      "    name:  age:  note:\n",
      "0  sevval  24.0   55.0\n",
      "1   mesut  26.0    NaN\n",
      "2   merve   NaN  699.0\n"
     ]
    }
   ],
   "source": [
    "dic={\"name:\":[\"sevval\",\"mesut\",\"merve\"],\n",
    "     \"age:\":[24,26,None],\n",
    "      \"note:\":[55,None,699]}\n",
    "\n",
    "dataframe=pd.DataFrame(dic)\n",
    "print(dataframe)"
   ]
  },
  {
   "cell_type": "code",
   "execution_count": 51,
   "id": "b9ded840",
   "metadata": {},
   "outputs": [
    {
     "name": "stdout",
     "output_type": "stream",
     "text": [
      "      number                  name    type1   type2  total   hp  attack  \\\n",
      "0          1             Bulbasaur    Grass  Poison    318   45      49   \n",
      "1          2               Ivysaur    Grass  Poison    405   60      62   \n",
      "2          3              Venusaur    Grass  Poison    525   80      82   \n",
      "3          3         Mega Venusaur    Grass  Poison    625   80     100   \n",
      "4          3   Gigantamax Venusaur    Grass  Poison    525   80      82   \n",
      "...      ...                   ...      ...     ...    ...  ...     ...   \n",
      "1067     896             Glastrier      Ice     NaN    580  100     145   \n",
      "1068     897             Spectrier    Ghost     NaN    580  100      65   \n",
      "1069     898               Calyrex  Psychic   Grass    500  100      80   \n",
      "1070     898     Ice Rider Calyrex  Psychic     Ice    680  100     165   \n",
      "1071     898  Shadow Rider Calyrex  Psychic   Ghost    680  100      85   \n",
      "\n",
      "      defense  sp_attack  sp_defense  speed  generation  legendary  \n",
      "0          49         65          65     45           1      False  \n",
      "1          63         80          80     60           1      False  \n",
      "2          83        100         100     80           1      False  \n",
      "3         123        122         120     80           1      False  \n",
      "4          83        100         100     80           1      False  \n",
      "...       ...        ...         ...    ...         ...        ...  \n",
      "1067      130         65         110     30           8       True  \n",
      "1068       60        145          80    130           8       True  \n",
      "1069       80         80          80     80           8       True  \n",
      "1070      150         85         130     50           8       True  \n",
      "1071       80        165         100    150           8       True  \n",
      "\n",
      "[1072 rows x 13 columns]\n"
     ]
    }
   ],
   "source": [
    "df=pd.read_csv(\"C:/Users/Sevval/Desktop/pokemon.csv\")\n",
    "print(df)"
   ]
  },
  {
   "cell_type": "code",
   "execution_count": 52,
   "id": "72f75f9e",
   "metadata": {},
   "outputs": [
    {
     "name": "stdout",
     "output_type": "stream",
     "text": [
      "    name:  age:  note:\n",
      "0  sevval  24.0   55.0\n",
      "1   mesut  26.0    NaN\n",
      "2   merve   NaN  699.0\n"
     ]
    }
   ],
   "source": [
    "head=dataframe.head()\n",
    "print(head)"
   ]
  },
  {
   "cell_type": "code",
   "execution_count": 54,
   "id": "35c44ffa",
   "metadata": {},
   "outputs": [
    {
     "name": "stdout",
     "output_type": "stream",
     "text": [
      "Index(['name:', 'age:', 'note:'], dtype='object')\n",
      "<class 'pandas.core.frame.DataFrame'>\n",
      "RangeIndex: 3 entries, 0 to 2\n",
      "Data columns (total 3 columns):\n",
      " #   Column  Non-Null Count  Dtype  \n",
      "---  ------  --------------  -----  \n",
      " 0   name:   3 non-null      object \n",
      " 1   age:    2 non-null      float64\n",
      " 2   note:   2 non-null      float64\n",
      "dtypes: float64(2), object(1)\n",
      "memory usage: 200.0+ bytes\n",
      "None\n",
      "name:     object\n",
      "age:     float64\n",
      "note:    float64\n",
      "dtype: object\n",
      "            age:       note:\n",
      "count   2.000000    2.000000\n",
      "mean   25.000000  377.000000\n",
      "std     1.414214  455.376767\n",
      "min    24.000000   55.000000\n",
      "25%    24.500000  216.000000\n",
      "50%    25.000000  377.000000\n",
      "75%    25.500000  538.000000\n",
      "max    26.000000  699.000000\n"
     ]
    }
   ],
   "source": [
    "print(dataframe.columns)\n",
    "print(dataframe.info())\n",
    "print(dataframe.dtypes)\n",
    "print(dataframe.describe())"
   ]
  },
  {
   "cell_type": "code",
   "execution_count": 55,
   "id": "3698ffb8",
   "metadata": {},
   "outputs": [
    {
     "name": "stdout",
     "output_type": "stream",
     "text": [
      "0                  Bulbasaur\n",
      "1                    Ivysaur\n",
      "2                   Venusaur\n",
      "3              Mega Venusaur\n",
      "4        Gigantamax Venusaur\n",
      "                ...         \n",
      "1067               Glastrier\n",
      "1068               Spectrier\n",
      "1069                 Calyrex\n",
      "1070       Ice Rider Calyrex\n",
      "1071    Shadow Rider Calyrex\n",
      "Name: name, Length: 1072, dtype: object\n"
     ]
    }
   ],
   "source": [
    "print(df[\"name\"])"
   ]
  },
  {
   "cell_type": "code",
   "execution_count": 56,
   "id": "c02884f2",
   "metadata": {},
   "outputs": [
    {
     "name": "stdout",
     "output_type": "stream",
     "text": [
      "0        45\n",
      "1        60\n",
      "2        80\n",
      "3        80\n",
      "4        80\n",
      "       ... \n",
      "1067    100\n",
      "1068    100\n",
      "1069    100\n",
      "1070    100\n",
      "1071    100\n",
      "Name: hp, Length: 1072, dtype: int64\n"
     ]
    }
   ],
   "source": [
    "print(df.loc[:,\"hp\"])"
   ]
  },
  {
   "cell_type": "code",
   "execution_count": 57,
   "id": "07533c39",
   "metadata": {},
   "outputs": [
    {
     "name": "stdout",
     "output_type": "stream",
     "text": [
      "0        Bulbasaur\n",
      "1          Ivysaur\n",
      "2         Venusaur\n",
      "3    Mega Venusaur\n",
      "Name: name, dtype: object\n"
     ]
    }
   ],
   "source": [
    "print(df.loc[:3,\"name\"])"
   ]
  },
  {
   "cell_type": "code",
   "execution_count": 58,
   "id": "d8b917b7",
   "metadata": {},
   "outputs": [
    {
     "name": "stdout",
     "output_type": "stream",
     "text": [
      "            name  type1   type2  total  hp\n",
      "0      Bulbasaur  Grass  Poison    318  45\n",
      "1        Ivysaur  Grass  Poison    405  60\n",
      "2       Venusaur  Grass  Poison    525  80\n",
      "3  Mega Venusaur  Grass  Poison    625  80\n"
     ]
    }
   ],
   "source": [
    "print(df.loc[:4,\"name\":\"hp\"])"
   ]
  },
  {
   "cell_type": "code",
   "execution_count": 59,
   "id": "5a206fd6",
   "metadata": {},
   "outputs": [
    {
     "name": "stdout",
     "output_type": "stream",
     "text": [
      "      number                  name    type1   type2  total   hp  attack  \\\n",
      "1071     898  Shadow Rider Calyrex  Psychic   Ghost    680  100      85   \n",
      "1070     898     Ice Rider Calyrex  Psychic     Ice    680  100     165   \n",
      "1069     898               Calyrex  Psychic   Grass    500  100      80   \n",
      "1068     897             Spectrier    Ghost     NaN    580  100      65   \n",
      "1067     896             Glastrier      Ice     NaN    580  100     145   \n",
      "...      ...                   ...      ...     ...    ...  ...     ...   \n",
      "4          3   Gigantamax Venusaur    Grass  Poison    525   80      82   \n",
      "3          3         Mega Venusaur    Grass  Poison    625   80     100   \n",
      "2          3              Venusaur    Grass  Poison    525   80      82   \n",
      "1          2               Ivysaur    Grass  Poison    405   60      62   \n",
      "0          1             Bulbasaur    Grass  Poison    318   45      49   \n",
      "\n",
      "      defense  sp_attack  sp_defense  speed  generation  legendary  \n",
      "1071       80        165         100    150           8       True  \n",
      "1070      150         85         130     50           8       True  \n",
      "1069       80         80          80     80           8       True  \n",
      "1068       60        145          80    130           8       True  \n",
      "1067      130         65         110     30           8       True  \n",
      "...       ...        ...         ...    ...         ...        ...  \n",
      "4          83        100         100     80           1      False  \n",
      "3         123        122         120     80           1      False  \n",
      "2          83        100         100     80           1      False  \n",
      "1          63         80          80     60           1      False  \n",
      "0          49         65          65     45           1      False  \n",
      "\n",
      "[1072 rows x 13 columns]\n"
     ]
    }
   ],
   "source": [
    "print(df.loc[::-1])"
   ]
  },
  {
   "cell_type": "code",
   "execution_count": 62,
   "id": "9575847a",
   "metadata": {},
   "outputs": [
    {
     "name": "stdout",
     "output_type": "stream",
     "text": [
      "         hp  total\n",
      "0     False    318\n",
      "1      True    405\n",
      "2      True    525\n",
      "3      True    625\n",
      "4      True    525\n",
      "...     ...    ...\n",
      "1067   True    580\n",
      "1068   True    580\n",
      "1069   True    500\n",
      "1070   True    680\n",
      "1071   True    680\n",
      "\n",
      "[1072 rows x 2 columns]\n"
     ]
    }
   ],
   "source": [
    "filtre1=df.hp>50\n",
    "df[\"hp\"]=filtre1\n",
    "print(df.loc[:,[\"hp\",\"total\"]])"
   ]
  },
  {
   "cell_type": "code",
   "execution_count": 63,
   "id": "39d630d8",
   "metadata": {},
   "outputs": [
    {
     "data": {
      "text/html": [
       "<div>\n",
       "<style scoped>\n",
       "    .dataframe tbody tr th:only-of-type {\n",
       "        vertical-align: middle;\n",
       "    }\n",
       "\n",
       "    .dataframe tbody tr th {\n",
       "        vertical-align: top;\n",
       "    }\n",
       "\n",
       "    .dataframe thead th {\n",
       "        text-align: right;\n",
       "    }\n",
       "</style>\n",
       "<table border=\"1\" class=\"dataframe\">\n",
       "  <thead>\n",
       "    <tr style=\"text-align: right;\">\n",
       "      <th></th>\n",
       "      <th>number</th>\n",
       "      <th>name</th>\n",
       "      <th>type1</th>\n",
       "      <th>type2</th>\n",
       "      <th>total</th>\n",
       "      <th>hp</th>\n",
       "      <th>attack</th>\n",
       "      <th>defense</th>\n",
       "      <th>sp_attack</th>\n",
       "      <th>sp_defense</th>\n",
       "      <th>speed</th>\n",
       "      <th>generation</th>\n",
       "      <th>legendary</th>\n",
       "    </tr>\n",
       "  </thead>\n",
       "  <tbody>\n",
       "    <tr>\n",
       "      <th>0</th>\n",
       "      <td>1</td>\n",
       "      <td>Bulbasaur</td>\n",
       "      <td>Grass</td>\n",
       "      <td>Poison</td>\n",
       "      <td>318</td>\n",
       "      <td>False</td>\n",
       "      <td>49</td>\n",
       "      <td>49</td>\n",
       "      <td>65</td>\n",
       "      <td>65</td>\n",
       "      <td>45</td>\n",
       "      <td>1</td>\n",
       "      <td>False</td>\n",
       "    </tr>\n",
       "    <tr>\n",
       "      <th>1</th>\n",
       "      <td>2</td>\n",
       "      <td>Ivysaur</td>\n",
       "      <td>Grass</td>\n",
       "      <td>Poison</td>\n",
       "      <td>405</td>\n",
       "      <td>True</td>\n",
       "      <td>62</td>\n",
       "      <td>63</td>\n",
       "      <td>80</td>\n",
       "      <td>80</td>\n",
       "      <td>60</td>\n",
       "      <td>1</td>\n",
       "      <td>False</td>\n",
       "    </tr>\n",
       "    <tr>\n",
       "      <th>2</th>\n",
       "      <td>3</td>\n",
       "      <td>Venusaur</td>\n",
       "      <td>Grass</td>\n",
       "      <td>Poison</td>\n",
       "      <td>525</td>\n",
       "      <td>True</td>\n",
       "      <td>82</td>\n",
       "      <td>83</td>\n",
       "      <td>100</td>\n",
       "      <td>100</td>\n",
       "      <td>80</td>\n",
       "      <td>1</td>\n",
       "      <td>False</td>\n",
       "    </tr>\n",
       "    <tr>\n",
       "      <th>3</th>\n",
       "      <td>3</td>\n",
       "      <td>Mega Venusaur</td>\n",
       "      <td>Grass</td>\n",
       "      <td>Poison</td>\n",
       "      <td>625</td>\n",
       "      <td>True</td>\n",
       "      <td>100</td>\n",
       "      <td>123</td>\n",
       "      <td>122</td>\n",
       "      <td>120</td>\n",
       "      <td>80</td>\n",
       "      <td>1</td>\n",
       "      <td>False</td>\n",
       "    </tr>\n",
       "    <tr>\n",
       "      <th>4</th>\n",
       "      <td>3</td>\n",
       "      <td>Gigantamax Venusaur</td>\n",
       "      <td>Grass</td>\n",
       "      <td>Poison</td>\n",
       "      <td>525</td>\n",
       "      <td>True</td>\n",
       "      <td>82</td>\n",
       "      <td>83</td>\n",
       "      <td>100</td>\n",
       "      <td>100</td>\n",
       "      <td>80</td>\n",
       "      <td>1</td>\n",
       "      <td>False</td>\n",
       "    </tr>\n",
       "    <tr>\n",
       "      <th>...</th>\n",
       "      <td>...</td>\n",
       "      <td>...</td>\n",
       "      <td>...</td>\n",
       "      <td>...</td>\n",
       "      <td>...</td>\n",
       "      <td>...</td>\n",
       "      <td>...</td>\n",
       "      <td>...</td>\n",
       "      <td>...</td>\n",
       "      <td>...</td>\n",
       "      <td>...</td>\n",
       "      <td>...</td>\n",
       "      <td>...</td>\n",
       "    </tr>\n",
       "    <tr>\n",
       "      <th>1063</th>\n",
       "      <td>893</td>\n",
       "      <td>Zarude</td>\n",
       "      <td>Dark</td>\n",
       "      <td>Grass</td>\n",
       "      <td>600</td>\n",
       "      <td>True</td>\n",
       "      <td>120</td>\n",
       "      <td>105</td>\n",
       "      <td>70</td>\n",
       "      <td>95</td>\n",
       "      <td>105</td>\n",
       "      <td>8</td>\n",
       "      <td>True</td>\n",
       "    </tr>\n",
       "    <tr>\n",
       "      <th>1064</th>\n",
       "      <td>893</td>\n",
       "      <td>Dada Zarude</td>\n",
       "      <td>Dark</td>\n",
       "      <td>Grass</td>\n",
       "      <td>600</td>\n",
       "      <td>True</td>\n",
       "      <td>120</td>\n",
       "      <td>105</td>\n",
       "      <td>70</td>\n",
       "      <td>95</td>\n",
       "      <td>105</td>\n",
       "      <td>8</td>\n",
       "      <td>True</td>\n",
       "    </tr>\n",
       "    <tr>\n",
       "      <th>1069</th>\n",
       "      <td>898</td>\n",
       "      <td>Calyrex</td>\n",
       "      <td>Psychic</td>\n",
       "      <td>Grass</td>\n",
       "      <td>500</td>\n",
       "      <td>True</td>\n",
       "      <td>80</td>\n",
       "      <td>80</td>\n",
       "      <td>80</td>\n",
       "      <td>80</td>\n",
       "      <td>80</td>\n",
       "      <td>8</td>\n",
       "      <td>True</td>\n",
       "    </tr>\n",
       "    <tr>\n",
       "      <th>1070</th>\n",
       "      <td>898</td>\n",
       "      <td>Ice Rider Calyrex</td>\n",
       "      <td>Psychic</td>\n",
       "      <td>Ice</td>\n",
       "      <td>680</td>\n",
       "      <td>True</td>\n",
       "      <td>165</td>\n",
       "      <td>150</td>\n",
       "      <td>85</td>\n",
       "      <td>130</td>\n",
       "      <td>50</td>\n",
       "      <td>8</td>\n",
       "      <td>True</td>\n",
       "    </tr>\n",
       "    <tr>\n",
       "      <th>1071</th>\n",
       "      <td>898</td>\n",
       "      <td>Shadow Rider Calyrex</td>\n",
       "      <td>Psychic</td>\n",
       "      <td>Ghost</td>\n",
       "      <td>680</td>\n",
       "      <td>True</td>\n",
       "      <td>85</td>\n",
       "      <td>80</td>\n",
       "      <td>165</td>\n",
       "      <td>100</td>\n",
       "      <td>150</td>\n",
       "      <td>8</td>\n",
       "      <td>True</td>\n",
       "    </tr>\n",
       "  </tbody>\n",
       "</table>\n",
       "<p>574 rows × 13 columns</p>\n",
       "</div>"
      ],
      "text/plain": [
       "      number                  name    type1   type2  total     hp  attack  \\\n",
       "0          1             Bulbasaur    Grass  Poison    318  False      49   \n",
       "1          2               Ivysaur    Grass  Poison    405   True      62   \n",
       "2          3              Venusaur    Grass  Poison    525   True      82   \n",
       "3          3         Mega Venusaur    Grass  Poison    625   True     100   \n",
       "4          3   Gigantamax Venusaur    Grass  Poison    525   True      82   \n",
       "...      ...                   ...      ...     ...    ...    ...     ...   \n",
       "1063     893                Zarude     Dark   Grass    600   True     120   \n",
       "1064     893           Dada Zarude     Dark   Grass    600   True     120   \n",
       "1069     898               Calyrex  Psychic   Grass    500   True      80   \n",
       "1070     898     Ice Rider Calyrex  Psychic     Ice    680   True     165   \n",
       "1071     898  Shadow Rider Calyrex  Psychic   Ghost    680   True      85   \n",
       "\n",
       "      defense  sp_attack  sp_defense  speed  generation  legendary  \n",
       "0          49         65          65     45           1      False  \n",
       "1          63         80          80     60           1      False  \n",
       "2          83        100         100     80           1      False  \n",
       "3         123        122         120     80           1      False  \n",
       "4          83        100         100     80           1      False  \n",
       "...       ...        ...         ...    ...         ...        ...  \n",
       "1063      105         70          95    105           8       True  \n",
       "1064      105         70          95    105           8       True  \n",
       "1069       80         80          80     80           8       True  \n",
       "1070      150         85         130     50           8       True  \n",
       "1071       80        165         100    150           8       True  \n",
       "\n",
       "[574 rows x 13 columns]"
      ]
     },
     "execution_count": 63,
     "metadata": {},
     "output_type": "execute_result"
    }
   ],
   "source": [
    "df.dropna(inplace=True)\n",
    "df"
   ]
  },
  {
   "cell_type": "code",
   "execution_count": 65,
   "id": "4ff09199",
   "metadata": {},
   "outputs": [
    {
     "name": "stdout",
     "output_type": "stream",
     "text": [
      "      number                  name    type1  type2  total    hp  attack  \\\n",
      "1063     893                Zarude     Dark  Grass    600  True     120   \n",
      "1064     893           Dada Zarude     Dark  Grass    600  True     120   \n",
      "1069     898               Calyrex  Psychic  Grass    500  True      80   \n",
      "1070     898     Ice Rider Calyrex  Psychic    Ice    680  True     165   \n",
      "1071     898  Shadow Rider Calyrex  Psychic  Ghost    680  True      85   \n",
      "\n",
      "      defense  sp_attack  sp_defense  speed  generation  legendary  \n",
      "1063      105         70          95    105           8       True  \n",
      "1064      105         70          95    105           8       True  \n",
      "1069       80         80          80     80           8       True  \n",
      "1070      150         85         130     50           8       True  \n",
      "1071       80        165         100    150           8       True  \n"
     ]
    }
   ],
   "source": [
    "tail=df.tail()\n",
    "print(tail)"
   ]
  },
  {
   "cell_type": "markdown",
   "id": "a414c86e",
   "metadata": {},
   "source": [
    "# matplotlib"
   ]
  },
  {
   "cell_type": "code",
   "execution_count": null,
   "id": "8b50d938",
   "metadata": {},
   "outputs": [],
   "source": []
  },
  {
   "cell_type": "code",
   "execution_count": 80,
   "id": "eeae264c",
   "metadata": {},
   "outputs": [],
   "source": [
    "import matplotlib.pyplot as plt"
   ]
  },
  {
   "cell_type": "code",
   "execution_count": 82,
   "id": "59f2ab3c",
   "metadata": {},
   "outputs": [
    {
     "data": {
      "text/plain": [
       "[<matplotlib.lines.Line2D at 0x1354979f880>]"
      ]
     },
     "execution_count": 82,
     "metadata": {},
     "output_type": "execute_result"
    },
    {
     "data": {
      "image/png": "[encoded data removed]",
      "text/plain": [
       "<Figure size 640x480 with 1 Axes>"
      ]
     },
     "metadata": {},
     "output_type": "display_data"
    }
   ],
   "source": [
    "x=np.arange(0,20,0.2)\n",
    "y=np.sin(x)\n",
    "plt.plot(x,y)"
   ]
  },
  {
   "cell_type": "code",
   "execution_count": 85,
   "id": "d2d4efaa",
   "metadata": {},
   "outputs": [
    {
     "data": {
      "image/png": "[encoded data removed]",
      "text/plain": [
       "<Figure size 640x480 with 1 Axes>"
      ]
     },
     "metadata": {},
     "output_type": "display_data"
    }
   ],
   "source": [
    "plt.plot(x,y)\n",
    "plt.title(\"sinus grafigi\")\n",
    "plt.xlabel(\"x\")\n",
    "plt.ylabel(\"y\")\n",
    "plt.show()"
   ]
  },
  {
   "cell_type": "code",
   "execution_count": 95,
   "id": "f222eaa3",
   "metadata": {},
   "outputs": [
    {
     "data": {
      "image/png": "[encoded data removed]",
      "text/plain": [
       "<Figure size 640x480 with 1 Axes>"
      ]
     },
     "metadata": {},
     "output_type": "display_data"
    }
   ],
   "source": [
    "a=np.random.rand(60)\n",
    "b=np.random.rand(60)\n",
    "colors=np.random.rand(60)\n",
    "sizes=np.random.randint(60,150,60)\n",
    "\n",
    "plt.scatter(a,b,c=colors,s=sizes)\n",
    "\n",
    "plt.title(\"nokta grafigi\")\n",
    "plt.xlabel(\"x\")\n",
    "plt.ylabel(\"y\")\n",
    "plt.show()"
   ]
  },
  {
   "cell_type": "code",
   "execution_count": 99,
   "id": "67479ed5",
   "metadata": {},
   "outputs": [
    {
     "data": {
      "image/png": "[encoded data removed]",
      "text/plain": [
       "<Figure size 640x480 with 1 Axes>"
      ]
     },
     "metadata": {},
     "output_type": "display_data"
    }
   ],
   "source": [
    "veri=np.random.randn(400)\n",
    "plt.hist(veri,bins=70)\n",
    "plt.title(\"histogram\")\n",
    "plt.xlabel(\"degerler\")\n",
    "plt.ylabel(\"frequency\")\n",
    "plt.show()"
   ]
  },
  {
   "cell_type": "code",
   "execution_count": 105,
   "id": "4cd47d96",
   "metadata": {},
   "outputs": [
    {
     "data": {
      "image/png": "[encoded data removed]",
      "text/plain": [
       "<Figure size 640x480 with 1 Axes>"
      ]
     },
     "metadata": {},
     "output_type": "display_data"
    }
   ],
   "source": [
    "x=[\"A\",\"B\",\"C\",\"D\",\"E\"]\n",
    "y=np.random.randint(1,20,5)\n",
    "plt.bar(x,y)\n",
    "plt.title(\"sutun grafigi\")\n",
    "plt.xlabel(\"kategoriler\")\n",
    "plt.ylabel(\"degerler\")\n",
    "plt.show()"
   ]
  },
  {
   "cell_type": "code",
   "execution_count": 104,
   "id": "d65c17a9",
   "metadata": {},
   "outputs": [
    {
     "data": {
      "image/png": "[encoded data removed]",
      "text/plain": [
       "<Figure size 640x480 with 1 Axes>"
      ]
     },
     "metadata": {},
     "output_type": "display_data"
    }
   ],
   "source": [
    "sizes=[10,45,65,2,6]\n",
    "plt.pie(sizes)\n",
    "plt.show()"
   ]
  },
  {
   "cell_type": "code",
   "execution_count": null,
   "id": "7008d65a",
   "metadata": {},
   "outputs": [],
   "source": []
  }
 ],
 "metadata": {
  "kernelspec": {
   "display_name": "Python 3 (ipykernel)",
   "language": "python",
   "name": "python3"
  },
  "language_info": {
   "codemirror_mode": {
    "name": "ipython",
    "version": 3
   },
   "file_extension": ".py",
   "mimetype": "text/x-python",
   "name": "python",
   "nbconvert_exporter": "python",
   "pygments_lexer": "ipython3",
   "version": "3.9.13"
  }
 },
 "nbformat": 4,
 "nbformat_minor": 5
}
